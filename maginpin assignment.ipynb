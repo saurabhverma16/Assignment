{
 "cells": [
  {
   "cell_type": "code",
   "execution_count": 2,
   "metadata": {},
   "outputs": [
    {
     "name": "stdout",
     "output_type": "stream",
     "text": [
      "12sdA@83,a F1#,2w3E*%dg,2We3345, 1234567\n",
      "12sdA@83.  success\n",
      "a F1#. Failure Password must be at least 6 characters long.\n",
      "2w3E*%dg. Failure Password cannot contain %!)(.\n",
      "2We3345. Failure Password must contain at least one letter from *$_#=@.\n",
      " 1234567. Failure Password must contain at least one letter from a-z.\n"
     ]
    }
   ],
   "source": [
    "import re\n",
    "inps=input().split(\",\")\n",
    "for i in inps:\n",
    "    while True:\n",
    "        if len(i)>12:\n",
    "            print(\"{}. Password must be at max 12 characters long.\".format(i))\n",
    "            break\n",
    "        elif len(i)<6:\n",
    "            print(\"{}. Failure Password must be at least 6 characters long.\".format(i))\n",
    "            break\n",
    "        elif not re.search(\"[a-z]\",i):\n",
    "            print(\"{}. Failure Password must contain at least one letter from a-z.\".format(i))\n",
    "            break\n",
    "        elif not re.search(\"[A-Z]\",i):\n",
    "            print(\"{}. Failure Password must contain at least one letter from A-Z.\".format(i))\n",
    "            break\n",
    "        elif not re.search(\"[*$_#=@]\",i):\n",
    "            print(\"{}. Failure Password must contain at least one letter from *$_#=@.\".format(i))\n",
    "            break\n",
    "        elif re.search(\"[%!)(]\",i):\n",
    "            print(\"{}. Failure Password cannot contain %!)(.\".format(i))\n",
    "            break\n",
    "        else:\n",
    "            print(\"{}.  success\".format(i))\n",
    "            break"
   ]
  }
 ],
 "metadata": {
  "kernelspec": {
   "display_name": "Python 3",
   "language": "python",
   "name": "python3"
  },
  "language_info": {
   "codemirror_mode": {
    "name": "ipython",
    "version": 3
   },
   "file_extension": ".py",
   "mimetype": "text/x-python",
   "name": "python",
   "nbconvert_exporter": "python",
   "pygments_lexer": "ipython3",
   "version": "3.5.2"
  }
 },
 "nbformat": 4,
 "nbformat_minor": 2
}
